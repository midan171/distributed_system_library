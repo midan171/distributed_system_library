{
  "cells": [
    {
      "cell_type": "markdown",
      "metadata": {
        "id": "view-in-github",
        "colab_type": "text"
      },
      "source": [
        "<a href=\"https://colab.research.google.com/github/midan171/distributed_system_library/blob/master/BERT_RTR_IEEE_experiment.ipynb\" target=\"_parent\"><img src=\"https://colab.research.google.com/assets/colab-badge.svg\" alt=\"Open In Colab\"/></a>"
      ]
    },
    {
      "cell_type": "code",
      "execution_count": 3,
      "metadata": {
        "colab": {
          "base_uri": "https://localhost:8080/"
        },
        "id": "BdFrq0Vep0L5",
        "outputId": "5b169ba5-1ecc-4bb6-ea5c-11f5be3802b5"
      },
      "outputs": [
        {
          "output_type": "stream",
          "name": "stdout",
          "text": [
            "Mounted at /content/drive\n"
          ]
        }
      ],
      "source": [
        "# Importing necessary libraries\n",
        "import os\n",
        "from google.colab import drive\n",
        "\n",
        "# Mounting Google Drive\n",
        "drive.mount('/content/drive')"
      ]
    },
    {
      "cell_type": "code",
      "execution_count": 4,
      "metadata": {
        "colab": {
          "base_uri": "https://localhost:8080/"
        },
        "id": "L_JzbdX3p7gX",
        "outputId": "8cc704ba-90d4-4022-cb33-1c051d28ed93"
      },
      "outputs": [
        {
          "output_type": "stream",
          "name": "stdout",
          "text": [
            "Collecting fasttext\n",
            "  Downloading fasttext-0.9.3.tar.gz (73 kB)\n",
            "\u001b[?25l     \u001b[90m━━━━━━━━━━━━━━━━━━━━━━━━━━━━━━━━━━━━━━━━\u001b[0m \u001b[32m0.0/73.4 kB\u001b[0m \u001b[31m?\u001b[0m eta \u001b[36m-:--:--\u001b[0m\r\u001b[2K     \u001b[91m━━━━━━━━━━━━━━━━━━━━━━━━━━━━━━━━━━━━━━━\u001b[0m\u001b[90m╺\u001b[0m \u001b[32m71.7/73.4 kB\u001b[0m \u001b[31m2.4 MB/s\u001b[0m eta \u001b[36m0:00:01\u001b[0m\r\u001b[2K     \u001b[90m━━━━━━━━━━━━━━━━━━━━━━━━━━━━━━━━━━━━━━━━\u001b[0m \u001b[32m73.4/73.4 kB\u001b[0m \u001b[31m1.7 MB/s\u001b[0m eta \u001b[36m0:00:00\u001b[0m\n",
            "\u001b[?25h  Installing build dependencies ... \u001b[?25l\u001b[?25hdone\n",
            "  Getting requirements to build wheel ... \u001b[?25l\u001b[?25hdone\n",
            "  Preparing metadata (pyproject.toml) ... \u001b[?25l\u001b[?25hdone\n",
            "Collecting pybind11>=2.2 (from fasttext)\n",
            "  Using cached pybind11-2.13.1-py3-none-any.whl (238 kB)\n",
            "Requirement already satisfied: setuptools>=0.7.0 in /usr/local/lib/python3.10/dist-packages (from fasttext) (67.7.2)\n",
            "Requirement already satisfied: numpy in /usr/local/lib/python3.10/dist-packages (from fasttext) (1.25.2)\n",
            "Building wheels for collected packages: fasttext\n",
            "  Building wheel for fasttext (pyproject.toml) ... \u001b[?25l\u001b[?25hdone\n",
            "  Created wheel for fasttext: filename=fasttext-0.9.3-cp310-cp310-linux_x86_64.whl size=4246767 sha256=e5adafe2591272da9d54b9ecd63bf62c419a6dbfd54af44b73d1b265539f49ea\n",
            "  Stored in directory: /root/.cache/pip/wheels/0d/a2/00/81db54d3e6a8199b829d58e02cec2ddb20ce3e59fad8d3c92a\n",
            "Successfully built fasttext\n",
            "Installing collected packages: pybind11, fasttext\n",
            "Successfully installed fasttext-0.9.3 pybind11-2.13.1\n"
          ]
        }
      ],
      "source": [
        "# Step 1: Install necessary libraries\n",
        "#!pip install transformers\n",
        "#!pip install gensim\n",
        "!pip install fasttext\n",
        "#!pip install torch\n",
        "#!pip install scikit-learn\n",
        "\n"
      ]
    },
    {
      "cell_type": "code",
      "execution_count": 5,
      "metadata": {
        "id": "jT6HBJGap7d_"
      },
      "outputs": [],
      "source": [
        "# Step 2: Import libraries\n",
        "import numpy as np\n",
        "import pandas as pd\n",
        "import gensim.downloader as api\n",
        "import fasttext\n",
        "import fasttext.util\n",
        "from transformers import BertTokenizer, BertModel\n",
        "import torch\n",
        "from sklearn.model_selection import cross_val_score\n",
        "from sklearn.linear_model import LogisticRegression\n",
        "from sklearn.ensemble import RandomForestClassifier\n",
        "from sklearn.svm import SVC\n",
        "from sklearn.pipeline import make_pipeline\n",
        "from sklearn.preprocessing import StandardScaler"
      ]
    },
    {
      "cell_type": "code",
      "execution_count": 10,
      "metadata": {
        "id": "PsOsXTHyp7bP",
        "colab": {
          "base_uri": "https://localhost:8080/",
          "height": 66,
          "referenced_widgets": [
            "65a761d781714f1392b3fad054af7e6b",
            "6b718c205df14c2c939c36aca21ba1a1",
            "eafe7dc9058342399e607fdea3bfe5e4",
            "bf527b2d9e634468a3111089e43e8a3d",
            "90df4015f85b488e9f732ebb2bde8cad",
            "0acf0889f92945b0a97e5c16f5ef5fa2",
            "1669fa4311a8473eb616b4a4401b51f5",
            "00f5d8d577404a30be6a574c7b126bbf",
            "55de83c8c05e403cabc12cb230bf9291",
            "d6d4d6dce169446883fb5c39201c9658",
            "d5f5b6cc1b0844549ae3c9cd25ca9e07"
          ]
        },
        "outputId": "4f626071-634b-42bb-f817-03c41734b948"
      },
      "outputs": [
        {
          "output_type": "display_data",
          "data": {
            "text/plain": [
              "model.safetensors:   0%|          | 0.00/440M [00:00<?, ?B/s]"
            ],
            "application/vnd.jupyter.widget-view+json": {
              "version_major": 2,
              "version_minor": 0,
              "model_id": "65a761d781714f1392b3fad054af7e6b"
            }
          },
          "metadata": {}
        },
        {
          "output_type": "stream",
          "name": "stdout",
          "text": [
            "[==================================================] 100.0% 66.0/66.0MB downloaded\n"
          ]
        }
      ],
      "source": [
        "# Step 3: Load pre-trained models and embeddings\n",
        "# Load BERT\n",
        "tokenizer = BertTokenizer.from_pretrained('bert-base-uncased')\n",
        "model = BertModel.from_pretrained('bert-base-uncased')\n",
        "\n",
        "# Load Word2Vec\n",
        "#word2vec = api.load('word2vec-ruscorpora-300')\n",
        "#word2vec = api.load('word2vec-google-news-300')\n",
        "\n",
        "#Load Fasttext\n",
        "#fasttext = api.load('fasttext-wiki-news-subwords-300')\n",
        "\n",
        "# Load GloVe\n",
        "glove = api.load('glove-wiki-gigaword-50')\n",
        "\n",
        "# Load GloVe twitter\n",
        "word2vec = api.load('glove-twitter-25')"
      ]
    },
    {
      "cell_type": "code",
      "execution_count": 34,
      "metadata": {
        "id": "ZzKlkK48wI5L"
      },
      "outputs": [],
      "source": [
        "from sklearn.preprocessing import LabelEncoder\n",
        "\n",
        "# Define path to the Excel file\n",
        "file_path = '/content/drive/MyDrive/Colab Notebooks/BERT (RTR)/Datasets/Sec_Actions_dataset_extra.xlsx'\n",
        "\n",
        "# Read the Excel file into a DataFrame\n",
        "df = pd.read_excel(file_path)\n",
        "\n",
        "# Assuming the DataFrame has columns 'sentence' and 'label'\n",
        "sentences = df['Sentences'].tolist()\n",
        "labels = df['Action_type'].tolist()\n",
        "\n",
        "# Encode labels\n",
        "le = LabelEncoder()\n",
        "labels_encoded = le.fit_transform(labels)\n"
      ]
    },
    {
      "cell_type": "code",
      "execution_count": 12,
      "metadata": {
        "id": "ozooTOZ8p7RG"
      },
      "outputs": [],
      "source": [
        "def sentence_embedding_bert(sentence):\n",
        "    inputs = tokenizer(sentence, return_tensors='pt', truncation=True, padding=True)\n",
        "    outputs = model(**inputs)\n",
        "    last_hidden_states = outputs.last_hidden_state\n",
        "    sentence_embedding = last_hidden_states.mean(dim=1).detach().numpy()\n",
        "    return sentence_embedding[0]\n",
        "\n",
        "def sentence_embedding_word2vec(sentence):\n",
        "    words = sentence.split()\n",
        "    word_vecs = [word2vec[word] for word in words if word in word2vec]\n",
        "    if len(word_vecs) == 0:\n",
        "        return np.zeros(300)\n",
        "    return np.mean(word_vecs, axis=0)\n",
        "\n",
        "def sentence_embedding_word2vec(sentence):\n",
        "    words = sentence.split()\n",
        "    word_vecs = [word2vec[word] for word in words if word in word2vec]\n",
        "    if len(word_vecs) == 0:\n",
        "        return np.zeros(25)\n",
        "    return np.mean(word_vecs, axis=0)\n",
        "\n",
        "def sentence_embedding_glove(sentence):\n",
        "    words = sentence.split()\n",
        "    word_vecs = [glove[word] for word in words if word in glove]\n",
        "    if len(word_vecs) == 0:\n",
        "        return np.zeros(50)  # Adjust this dimension according to the GloVe vectors used\n",
        "    return np.mean(word_vecs, axis=0)"
      ]
    },
    {
      "cell_type": "code",
      "execution_count": 35,
      "metadata": {
        "id": "M30tuEK0p7Fu"
      },
      "outputs": [],
      "source": [
        "# Generate embeddings\n",
        "embeddings_bert = np.array([sentence_embedding_bert(sentence) for sentence in sentences])\n",
        "\n"
      ]
    },
    {
      "cell_type": "code",
      "execution_count": 36,
      "metadata": {
        "id": "hZ22U0uW22jS"
      },
      "outputs": [],
      "source": [
        "embeddings_word2vec = np.array([sentence_embedding_word2vec(sentence) for sentence in sentences])\n"
      ]
    },
    {
      "cell_type": "code",
      "execution_count": 37,
      "metadata": {
        "id": "zm3KBkFw4MDq"
      },
      "outputs": [],
      "source": [
        "embeddings_glove = np.array([sentence_embedding_glove(sentence) for sentence in sentences])"
      ]
    },
    {
      "cell_type": "code",
      "execution_count": 38,
      "metadata": {
        "id": "B6sp649M5h08"
      },
      "outputs": [],
      "source": [
        "# Step 5: Train and Evaluate Models\n",
        "def evaluate_model(X, y, model):\n",
        "    scores = cross_val_score(model, X, y, cv=10)\n",
        "    return scores"
      ]
    },
    {
      "cell_type": "code",
      "execution_count": 39,
      "metadata": {
        "id": "2tsG3p8x6yZL"
      },
      "outputs": [],
      "source": [
        "import torch.nn as nn\n",
        "import torch.optim as optim\n",
        "from torch.utils.data import DataLoader, TensorDataset, random_split\n",
        "from sklearn.preprocessing import LabelEncoder"
      ]
    },
    {
      "cell_type": "code",
      "execution_count": 40,
      "metadata": {
        "id": "KppfzwOm61vj"
      },
      "outputs": [],
      "source": [
        "\n",
        "\n",
        "class DNN(nn.Module):\n",
        "    def __init__(self, input_size, num_classes):\n",
        "        super(DNN, self).__init__()\n",
        "        self.fc1 = nn.Linear(input_size, 128)\n",
        "        self.relu = nn.ReLU()\n",
        "        self.dropout1 = nn.Dropout(0.85)  # Dropout layer after the first fully connected layer\n",
        "        self.fc2 = nn.Linear(128, 64)\n",
        "        self.dropout2 = nn.Dropout(0.85)  # Dropout layer after the second fully connected layer\n",
        "        self.fc3 = nn.Linear(64, num_classes)  # Assuming 3 classes for classification\n",
        "\n",
        "    def forward(self, x):\n",
        "        x = self.fc1(x)\n",
        "        x = self.relu(x)\n",
        "        x = self.dropout1(x)\n",
        "        x = self.fc2(x)\n",
        "        x = self.relu(x)\n",
        "        x = self.dropout2(x)\n",
        "        x = self.fc3(x)\n",
        "        return x\n",
        "\n",
        "\n"
      ]
    },
    {
      "cell_type": "code",
      "execution_count": 41,
      "metadata": {
        "id": "mwlZqP7961tK"
      },
      "outputs": [],
      "source": [
        "\n",
        "\n",
        "# Modify the training function to accept and use num_classes:\n",
        "def train_dnn_model(X, y, input_size, epochs, batch_size):\n",
        "    # Encode labels if they are strings\n",
        "    if isinstance(y[0], str):\n",
        "        #le = LabelEncoder()\n",
        "        le = LabelEncoder()\n",
        "        y = le.fit_transform(y)\n",
        "\n",
        "    num_classes = len(np.unique(y))  # Determine the number of classes\n",
        "\n",
        "    # Convert data to PyTorch tensors\n",
        "    X_tensor = torch.tensor(X, dtype=torch.float32)\n",
        "    y_tensor = torch.tensor(y, dtype=torch.long) # Labels should now be integers\n",
        "\n",
        "    # Create dataset and dataloader\n",
        "    dataset = TensorDataset(X_tensor, y_tensor)\n",
        "    train_size = int(0.8 * len(dataset))\n",
        "    val_size = len(dataset) - train_size\n",
        "    train_dataset, val_dataset = random_split(dataset, [train_size, val_size])\n",
        "    train_loader = DataLoader(train_dataset, batch_size=batch_size, shuffle=True)\n",
        "    val_loader = DataLoader(val_dataset, batch_size=batch_size, shuffle=False)\n",
        "\n",
        "    # Initialize model, loss function, and optimizer\n",
        "    model = DNN(input_size, num_classes)\n",
        "    criterion = nn.CrossEntropyLoss()\n",
        "    optimizer = optim.Adam(model.parameters(), lr=0.001)\n",
        "\n",
        "    # Training loop\n",
        "    for epoch in range(epochs):\n",
        "        model.train()\n",
        "        for inputs, labels in train_loader:\n",
        "            optimizer.zero_grad()\n",
        "            outputs = model(inputs)\n",
        "            loss = criterion(outputs, labels)\n",
        "            loss.backward()\n",
        "            optimizer.step()\n",
        "\n",
        "        # Validation loop\n",
        "        model.eval()\n",
        "        val_loss = 0.0\n",
        "        correct = 0\n",
        "        total = 0\n",
        "        with torch.no_grad():\n",
        "            for inputs, labels in val_loader:\n",
        "                outputs = model(inputs)\n",
        "                loss = criterion(outputs, labels)\n",
        "                val_loss += loss.item()\n",
        "                _, predicted = torch.max(outputs, 1)\n",
        "                total += labels.size(0)\n",
        "                correct += (predicted == labels).sum().item()\n",
        "\n",
        "        val_loss /= len(val_loader)\n",
        "        val_accuracy = correct / total\n",
        "        print(f\"Epoch {epoch+1}/{epochs}, Loss: {val_loss:.4f}, Accuracy: {val_accuracy:.4f}\")\n",
        "\n",
        "    return model"
      ]
    },
    {
      "cell_type": "code",
      "execution_count": 42,
      "metadata": {
        "id": "FBCZJq4p61jD"
      },
      "outputs": [],
      "source": [
        "# Evaluate the DNN model using cross-validation\n",
        "def evaluate_dnn(X, y, input_size, epochs=10, batch_size=32, cv=10):\n",
        "    fold_size = len(X) // cv\n",
        "    scores = []\n",
        "\n",
        "    for fold in range(cv):\n",
        "        val_start = fold * fold_size\n",
        "        val_end = val_start + fold_size\n",
        "        X_train = np.concatenate((X[:val_start], X[val_end:]), axis=0)\n",
        "        y_train = np.concatenate((y[:val_start], y[val_end:]), axis=0)\n",
        "        X_val = X[val_start:val_end]\n",
        "        y_val = y[val_start:val_end]\n",
        "\n",
        "        # Check and adjust the range of labels before training\n",
        "        if isinstance(y_train[0], str):\n",
        "            from sklearn.preprocessing import LabelEncoder\n",
        "            le = LabelEncoder()\n",
        "            y_train = le.fit_transform(y_train)\n",
        "            y_val = le.transform(y_val)  # Use the same encoder to transform validation labels\n",
        "        num_classes = len(np.unique(y_train))  # Determine the number of classes\n",
        "\n",
        "        model = train_dnn_model(X_train, y_train, input_size, epochs, batch_size)  # Pass num_classes to the training function\n",
        "\n",
        "        model.eval()\n",
        "        val_tensor = torch.tensor(X_val, dtype=torch.float32)\n",
        "        y_tensor = torch.tensor(y_val, dtype=torch.long)\n",
        "        outputs = model(val_tensor)\n",
        "        _, predicted = torch.max(outputs, 1)\n",
        "        accuracy = (predicted == y_tensor).sum().item() / len(y_val)\n",
        "        scores.append(accuracy)\n",
        "\n",
        "    return np.mean(scores)"
      ]
    },
    {
      "cell_type": "code",
      "execution_count": 43,
      "metadata": {
        "id": "Tdjhar0R61gz"
      },
      "outputs": [],
      "source": [
        "# Step 5: Train and Evaluate Models\n",
        "def evaluate_model(X, y, model):\n",
        "    scores = cross_val_score(model, X, y, cv=10)\n",
        "    return scores"
      ]
    },
    {
      "cell_type": "code",
      "execution_count": 44,
      "metadata": {
        "id": "eantH-6J5hzK"
      },
      "outputs": [],
      "source": [
        "# Logistic Regression\n",
        "log_reg = LogisticRegression(max_iter=1000)\n",
        "# Random Forest\n",
        "random_forest = RandomForestClassifier()\n",
        "# Support Vector Machine\n",
        "svm = make_pipeline(StandardScaler(), SVC())"
      ]
    },
    {
      "cell_type": "code",
      "execution_count": 45,
      "metadata": {
        "collapsed": true,
        "id": "w8STJivd7c0C",
        "colab": {
          "base_uri": "https://localhost:8080/"
        },
        "outputId": "3d419570-7371-41de-a050-9f8e364ea12d"
      },
      "outputs": [
        {
          "output_type": "stream",
          "name": "stdout",
          "text": [
            "[2 1 4 2 1 4 2 1 4 2 1 4 2 1 4 2 1 4 2 1 4 2 1 4 2 1 4 2 1 4 2 1 4 2 1 4 2\n",
            " 1 4 2 1 4 2 1 4 2 1 4 2 1 2 1 4 2 1 4 2 1 4 2 1 4 2 1 4 2 1 4 2 1 4 2 1 4\n",
            " 2 1 4 2 1 4 2 1 4 2 1 4 2 1 4 2 1 4 2 1 4 2 1 4 2 1 4 2 1 4 2 1 4 2 1 4 2\n",
            " 1 4 2 1 4 2 1 4 2 1 4 2 1 4 2 1 4 2 1 4 2 1 4 2 1 4 2 1 4 2 1 4 2 1 4 2 1\n",
            " 4 2 1 4 2 1 4 2 1 4 2 1 4 2 1 4 2 1 4 2 1 4 2 1 4 2 1 4 2 1 4 2 1 4 2 1 4\n",
            " 2 1 4 2 1 4 2 1 4 2 1 4 2 1 4 2 1 4 2 1 4 2 1 4 2 1 4 2 1 4 2 1 4 2 1 4 2\n",
            " 1 4 2 1 4 2 1 4 2 1 4 2 1 4 2 1 4 2 1 4 2 1 4 2 1 4 2 1 4 2 1 4 2 1 4 2 1\n",
            " 4 2 1 4 2 1 4 2 1 4 2 1 4 2 1 4 2 1 4 2 1 4 2 1 4 2 1 4 2 1 4 2 1 4 2 2 1\n",
            " 4 2 1 4 2 1 4 2 1 4 2 1 4 2 1 4 2 2 1 4 2 1 4 2 1 4 2 1 4 2 1 4 2 1 4 2 2\n",
            " 1 4 2 1 4 2 1 4 2 2 1 4 2 1 4 2 1 4 2 1 4 2 1 4 2 1 4 2 2 1 4 2 1 4 2 1 4\n",
            " 2 1 4 2 1 4 2 1 4 2 2 1 4 2 1 2 1 4 2 1 4 2 1 4 2 1 4 2 1 4 2 1 4 2 2 1 4\n",
            " 2 1 4 2 1 4 2 1 4 2 1 4 2 1 4 2 2 1 4 2 1 4 2 1 4 2 1 4 2 0 0 0 0 3 3 3 3\n",
            " 0 0 0 0 3 3 3 3 0 0 0 0 3 3 3 3 0 0 0 0 3 3 3 3 0 0 0 0 3 3 3 3 0 0 0 0 3\n",
            " 3 3 3 0 0 0 0 3 3 3 3 0 0 0 0 3 3 3 3 0 0 0 0 3 3 3 3 0 0 0 0 3 3 3 3 0 0\n",
            " 0 0 3 3 3 3 0 0 0 0 3 3 3 3 0 0 0 0 3 3 3 3 0 0 0 0 3 3 3 3 0 0 0 0 3 3 3\n",
            " 3 0 0 0 0 3 3 3 3 0 0 0 0 3 3 3 3 0 0 0 0 3 3 3 3 0 0 0 0 3 3 3 3 0 0 0 0\n",
            " 3 3 3 3 0 0 0 0 3 3 3 3 0 0 0 0 3 3 3 3 0 0 0 0 3 3 3 3 0 0 0 0 3 3 3 3 2\n",
            " 1 4 2 1 4 2 1 4 2 1 4 2 1 4 2 1 4 2 1 4 2 1 4 2 1 4 2 1 4 2 1 4 2 1 4 2 1\n",
            " 4 2 1 4 2 1 4 2 1 4 0 0 0 1 4 2 1 3 3 3 3 0 0 0 2 1 4 2 1 4 3 0 0 0 0 3 3\n",
            " 3 3 0 0 0 2 1 4 2 1 4 3 0 0 0 0 3 3 3 3 2 1 4 2 1 4 2 1 4 2 1 3 3 3 3 0 0\n",
            " 0 2 1 4 2 1 4 3 0 0 0 2 1 4 2 1 4 3 0 0 0 2 1 4 2 1 4 2 1 4 2 1 3 3 2 1 4\n",
            " 2 1 4 2 1 4 2 1 3 3 3 3 0 0 0 2 1 4 2 1 4 3 0 0 0 2 1 4 2 1 4 3 0 0 0 2 1\n",
            " 4 2 1 4 2 1 4 2 1 3 3 2 1 4 2 1 4 2 1 4 2 1 3 3 3 3 0 0 0 2 1 4 2 1 4 2 1\n",
            " 4 2 1 3 3 3 3 0 0 0 2 1 4 2 1 4 2 1 4 2 1 3 3 3 3 2 1 4 2 1 4 2 1 4 2 1 3\n",
            " 3 3 0 0 0 2 1 4 2 1 4 2 1 4 2 1 3 3 3 0 0 0 2 1 4 2 1 4 2 1 4 2 1 3 3 3 0\n",
            " 0 0 2 1 4 2 1 4 2 1 4 2 1 3 3 3 0 0 0 2 1 4 2 1 4 2 1 4 2 1 3 3 3 0 0 0 2\n",
            " 1 4 2 1 4 2 1 4 2 1 3 3 3 0 0 0 2 1 4 2 1 4 2 1 4 2 1 3 3 3 0 0 0 2 1 4 2]\n"
          ]
        }
      ],
      "source": [
        "print(labels_encoded)"
      ]
    },
    {
      "cell_type": "code",
      "execution_count": 46,
      "metadata": {
        "id": "4zar-RvS5hxM"
      },
      "outputs": [],
      "source": [
        "# Evaluate on BERT embeddings\n",
        "scores_bert_log_reg = evaluate_model(embeddings_bert, labels_encoded, log_reg)\n",
        "scores_bert_rf = evaluate_model(embeddings_bert, labels_encoded, random_forest)\n",
        "scores_bert_svm = evaluate_model(embeddings_bert, labels_encoded, svm)\n"
      ]
    },
    {
      "cell_type": "code",
      "execution_count": 47,
      "metadata": {
        "id": "RmJbRGYn7ZWD",
        "colab": {
          "base_uri": "https://localhost:8080/"
        },
        "outputId": "507c59f2-6baf-4c23-c1a6-c1d657d1b8c4"
      },
      "outputs": [
        {
          "output_type": "stream",
          "name": "stdout",
          "text": [
            "BERT + Logistic Regression: 1.0\n",
            "BERT + Random Forest: 1.0\n",
            "BERT + SVM: 0.999\n"
          ]
        }
      ],
      "source": [
        "# Print results\n",
        "print(\"BERT + Logistic Regression:\", scores_bert_log_reg.mean())\n",
        "print(\"BERT + Random Forest:\", scores_bert_rf.mean())\n",
        "print(\"BERT + SVM:\", scores_bert_svm.mean())"
      ]
    },
    {
      "cell_type": "code",
      "execution_count": 48,
      "metadata": {
        "id": "3lntku6v9jIr",
        "colab": {
          "base_uri": "https://localhost:8080/"
        },
        "outputId": "5ac04e3b-50ec-4cb7-959b-c0cc39b1c48b"
      },
      "outputs": [
        {
          "output_type": "stream",
          "name": "stdout",
          "text": [
            "Epoch 1/10, Loss: 1.5588, Accuracy: 0.4444\n",
            "Epoch 2/10, Loss: 1.4852, Accuracy: 0.6111\n",
            "Epoch 3/10, Loss: 1.3894, Accuracy: 0.7000\n",
            "Epoch 4/10, Loss: 1.2593, Accuracy: 0.7833\n",
            "Epoch 5/10, Loss: 1.0892, Accuracy: 0.7722\n",
            "Epoch 6/10, Loss: 0.9379, Accuracy: 0.7889\n",
            "Epoch 7/10, Loss: 0.7947, Accuracy: 0.8111\n",
            "Epoch 8/10, Loss: 0.6678, Accuracy: 0.8056\n",
            "Epoch 9/10, Loss: 0.5841, Accuracy: 0.8111\n",
            "Epoch 10/10, Loss: 0.5222, Accuracy: 0.8111\n",
            "Epoch 1/10, Loss: 1.5714, Accuracy: 0.3167\n",
            "Epoch 2/10, Loss: 1.4866, Accuracy: 0.5000\n",
            "Epoch 3/10, Loss: 1.3895, Accuracy: 0.7167\n",
            "Epoch 4/10, Loss: 1.2379, Accuracy: 0.9111\n",
            "Epoch 5/10, Loss: 1.1383, Accuracy: 0.9444\n",
            "Epoch 6/10, Loss: 0.9332, Accuracy: 0.8167\n",
            "Epoch 7/10, Loss: 0.8193, Accuracy: 0.8222\n",
            "Epoch 8/10, Loss: 0.7042, Accuracy: 0.8889\n",
            "Epoch 9/10, Loss: 0.6510, Accuracy: 0.9278\n",
            "Epoch 10/10, Loss: 0.5476, Accuracy: 0.8444\n",
            "Epoch 1/10, Loss: 1.5549, Accuracy: 0.4444\n",
            "Epoch 2/10, Loss: 1.5158, Accuracy: 0.4722\n",
            "Epoch 3/10, Loss: 1.4276, Accuracy: 0.6833\n",
            "Epoch 4/10, Loss: 1.3112, Accuracy: 0.7167\n",
            "Epoch 5/10, Loss: 1.1232, Accuracy: 0.7667\n",
            "Epoch 6/10, Loss: 0.9442, Accuracy: 0.8111\n",
            "Epoch 7/10, Loss: 0.7953, Accuracy: 0.8389\n",
            "Epoch 8/10, Loss: 0.6955, Accuracy: 0.8500\n",
            "Epoch 9/10, Loss: 0.5797, Accuracy: 0.9000\n",
            "Epoch 10/10, Loss: 0.5153, Accuracy: 0.8611\n",
            "Epoch 1/10, Loss: 1.5427, Accuracy: 0.6056\n",
            "Epoch 2/10, Loss: 1.4692, Accuracy: 0.8389\n",
            "Epoch 3/10, Loss: 1.3308, Accuracy: 0.7333\n",
            "Epoch 4/10, Loss: 1.1948, Accuracy: 0.9278\n",
            "Epoch 5/10, Loss: 1.0428, Accuracy: 0.7778\n",
            "Epoch 6/10, Loss: 0.8905, Accuracy: 0.7833\n",
            "Epoch 7/10, Loss: 0.7875, Accuracy: 0.7944\n",
            "Epoch 8/10, Loss: 0.6765, Accuracy: 0.7944\n",
            "Epoch 9/10, Loss: 0.5979, Accuracy: 0.7944\n",
            "Epoch 10/10, Loss: 0.5417, Accuracy: 0.7944\n",
            "Epoch 1/10, Loss: 1.5353, Accuracy: 0.4722\n",
            "Epoch 2/10, Loss: 1.4398, Accuracy: 0.4889\n",
            "Epoch 3/10, Loss: 1.3296, Accuracy: 0.4889\n",
            "Epoch 4/10, Loss: 1.2013, Accuracy: 0.5167\n",
            "Epoch 5/10, Loss: 1.1073, Accuracy: 0.6889\n",
            "Epoch 6/10, Loss: 0.9780, Accuracy: 0.7000\n",
            "Epoch 7/10, Loss: 0.9109, Accuracy: 0.7000\n",
            "Epoch 8/10, Loss: 0.8334, Accuracy: 0.7000\n",
            "Epoch 9/10, Loss: 0.7457, Accuracy: 0.7000\n",
            "Epoch 10/10, Loss: 0.6886, Accuracy: 0.7000\n",
            "Epoch 1/10, Loss: 1.5041, Accuracy: 0.7889\n",
            "Epoch 2/10, Loss: 1.4040, Accuracy: 0.7889\n",
            "Epoch 3/10, Loss: 1.2446, Accuracy: 0.7889\n",
            "Epoch 4/10, Loss: 1.0353, Accuracy: 0.7889\n",
            "Epoch 5/10, Loss: 0.9092, Accuracy: 0.7889\n",
            "Epoch 6/10, Loss: 0.7959, Accuracy: 0.7889\n",
            "Epoch 7/10, Loss: 0.6989, Accuracy: 0.8000\n",
            "Epoch 8/10, Loss: 0.6346, Accuracy: 0.8500\n",
            "Epoch 9/10, Loss: 0.5620, Accuracy: 0.8722\n",
            "Epoch 10/10, Loss: 0.5373, Accuracy: 0.8611\n",
            "Epoch 1/10, Loss: 1.5596, Accuracy: 0.1778\n",
            "Epoch 2/10, Loss: 1.4705, Accuracy: 0.6667\n",
            "Epoch 3/10, Loss: 1.3716, Accuracy: 0.6833\n",
            "Epoch 4/10, Loss: 1.2010, Accuracy: 0.6667\n",
            "Epoch 5/10, Loss: 1.0507, Accuracy: 0.6667\n",
            "Epoch 6/10, Loss: 0.8926, Accuracy: 0.6667\n",
            "Epoch 7/10, Loss: 0.8092, Accuracy: 0.6833\n",
            "Epoch 8/10, Loss: 0.6685, Accuracy: 0.6833\n",
            "Epoch 9/10, Loss: 0.6147, Accuracy: 0.7500\n",
            "Epoch 10/10, Loss: 0.5790, Accuracy: 0.7389\n",
            "Epoch 1/10, Loss: 1.5374, Accuracy: 0.4444\n",
            "Epoch 2/10, Loss: 1.4356, Accuracy: 0.7000\n",
            "Epoch 3/10, Loss: 1.3211, Accuracy: 0.7000\n",
            "Epoch 4/10, Loss: 1.1452, Accuracy: 0.7056\n",
            "Epoch 5/10, Loss: 0.9801, Accuracy: 0.7889\n",
            "Epoch 6/10, Loss: 0.8193, Accuracy: 0.8056\n",
            "Epoch 7/10, Loss: 0.6751, Accuracy: 0.8444\n",
            "Epoch 8/10, Loss: 0.6071, Accuracy: 0.8333\n",
            "Epoch 9/10, Loss: 0.5351, Accuracy: 0.8444\n",
            "Epoch 10/10, Loss: 0.4526, Accuracy: 0.8444\n",
            "Epoch 1/10, Loss: 1.5625, Accuracy: 0.4944\n",
            "Epoch 2/10, Loss: 1.4371, Accuracy: 0.6667\n",
            "Epoch 3/10, Loss: 1.2706, Accuracy: 0.6667\n",
            "Epoch 4/10, Loss: 1.1470, Accuracy: 0.6667\n",
            "Epoch 5/10, Loss: 1.0094, Accuracy: 0.6667\n",
            "Epoch 6/10, Loss: 0.8888, Accuracy: 0.6667\n",
            "Epoch 7/10, Loss: 0.8107, Accuracy: 0.6667\n",
            "Epoch 8/10, Loss: 0.7200, Accuracy: 0.6667\n",
            "Epoch 9/10, Loss: 0.6820, Accuracy: 0.6944\n",
            "Epoch 10/10, Loss: 0.6397, Accuracy: 0.7611\n",
            "Epoch 1/10, Loss: 1.5352, Accuracy: 0.3667\n",
            "Epoch 2/10, Loss: 1.3847, Accuracy: 0.6611\n",
            "Epoch 3/10, Loss: 1.2319, Accuracy: 0.6667\n",
            "Epoch 4/10, Loss: 1.0869, Accuracy: 0.6667\n",
            "Epoch 5/10, Loss: 0.9133, Accuracy: 0.6667\n",
            "Epoch 6/10, Loss: 0.8210, Accuracy: 0.6667\n",
            "Epoch 7/10, Loss: 0.7324, Accuracy: 0.7222\n",
            "Epoch 8/10, Loss: 0.6769, Accuracy: 0.8222\n",
            "Epoch 9/10, Loss: 0.6280, Accuracy: 0.8000\n",
            "Epoch 10/10, Loss: 0.5811, Accuracy: 0.8222\n"
          ]
        }
      ],
      "source": [
        "scores_bert_dnn = evaluate_dnn(embeddings_bert, labels_encoded, embeddings_bert.shape[1])"
      ]
    },
    {
      "cell_type": "code",
      "execution_count": 49,
      "metadata": {
        "id": "bno0vBuRHDs7"
      },
      "outputs": [],
      "source": [
        "# Evaluate on Word2Vec embeddings\n",
        "scores_w2v_log_reg = evaluate_model(embeddings_word2vec, labels, log_reg)\n",
        "scores_w2v_rf = evaluate_model(embeddings_word2vec, labels, random_forest)\n",
        "scores_w2v_svm = evaluate_model(embeddings_word2vec, labels, svm)\n"
      ]
    },
    {
      "cell_type": "code",
      "execution_count": 50,
      "metadata": {
        "id": "jr0K4do1PrqV",
        "colab": {
          "base_uri": "https://localhost:8080/"
        },
        "outputId": "d88c4ebd-01a3-45f3-d748-c7b7c1429dec"
      },
      "outputs": [
        {
          "output_type": "stream",
          "name": "stdout",
          "text": [
            "W2Vec + Logistic Regression: 0.9869898989898989\n",
            "W2Vec + Random Forest: 0.9890000000000001\n",
            "W2Vec + SVM: 0.999\n"
          ]
        }
      ],
      "source": [
        "# Print results\n",
        "print(\"W2Vec + Logistic Regression:\", scores_w2v_log_reg.mean())\n",
        "print(\"W2Vec + Random Forest:\", scores_w2v_rf.mean())\n",
        "print(\"W2Vec + SVM:\", scores_w2v_svm.mean())"
      ]
    },
    {
      "cell_type": "code",
      "execution_count": 51,
      "metadata": {
        "collapsed": true,
        "id": "tF4IxJG8IF2D",
        "colab": {
          "base_uri": "https://localhost:8080/"
        },
        "outputId": "17d8e28d-c325-4ac0-a7ff-c4ac557939d0"
      },
      "outputs": [
        {
          "output_type": "stream",
          "name": "stdout",
          "text": [
            "Epoch 1/10, Loss: 1.6068, Accuracy: 0.2000\n",
            "Epoch 2/10, Loss: 1.5990, Accuracy: 0.3800\n",
            "Epoch 3/10, Loss: 1.5908, Accuracy: 0.3000\n",
            "Epoch 4/10, Loss: 1.5837, Accuracy: 0.2700\n",
            "Epoch 5/10, Loss: 1.5784, Accuracy: 0.3600\n",
            "Epoch 6/10, Loss: 1.5700, Accuracy: 0.4100\n",
            "Epoch 7/10, Loss: 1.5587, Accuracy: 0.4100\n",
            "Epoch 8/10, Loss: 1.5489, Accuracy: 0.4300\n",
            "Epoch 9/10, Loss: 1.5394, Accuracy: 0.4800\n",
            "Epoch 10/10, Loss: 1.5303, Accuracy: 0.5000\n",
            "Epoch 1/10, Loss: 1.5363, Accuracy: 0.3500\n",
            "Epoch 2/10, Loss: 1.4971, Accuracy: 0.4000\n",
            "Epoch 3/10, Loss: 1.4753, Accuracy: 0.5300\n",
            "Epoch 4/10, Loss: 1.4570, Accuracy: 0.6800\n",
            "Epoch 5/10, Loss: 1.4349, Accuracy: 0.7600\n",
            "Epoch 6/10, Loss: 1.4060, Accuracy: 0.7600\n",
            "Epoch 7/10, Loss: 1.3769, Accuracy: 0.7600\n",
            "Epoch 8/10, Loss: 1.3496, Accuracy: 0.7700\n",
            "Epoch 9/10, Loss: 1.3229, Accuracy: 0.7600\n",
            "Epoch 10/10, Loss: 1.2927, Accuracy: 0.8100\n"
          ]
        }
      ],
      "source": [
        "scores_w2v_dnn = evaluate_dnn(embeddings_word2vec, labels, embeddings_word2vec.shape[1], cv=2)"
      ]
    },
    {
      "cell_type": "code",
      "execution_count": 52,
      "metadata": {
        "collapsed": true,
        "id": "TueaQ_Bg5hqi"
      },
      "outputs": [],
      "source": [
        "# Evaluate on GloVe embeddings\n",
        "scores_glove_log_reg = evaluate_model(embeddings_glove, labels, log_reg)\n",
        "scores_glove_rf = evaluate_model(embeddings_glove, labels, random_forest)\n",
        "scores_glove_svm = evaluate_model(embeddings_glove, labels, svm)"
      ]
    },
    {
      "cell_type": "code",
      "execution_count": 53,
      "metadata": {
        "collapsed": true,
        "id": "rhSy9i8SIT1t",
        "colab": {
          "base_uri": "https://localhost:8080/"
        },
        "outputId": "ae2512a9-c2c7-4d7c-f528-20d4c454af17"
      },
      "outputs": [
        {
          "output_type": "stream",
          "name": "stdout",
          "text": [
            "Epoch 1/100, Loss: 1.6268, Accuracy: 0.2100\n",
            "Epoch 2/100, Loss: 1.6093, Accuracy: 0.2100\n",
            "Epoch 3/100, Loss: 1.5954, Accuracy: 0.2100\n",
            "Epoch 4/100, Loss: 1.5792, Accuracy: 0.2100\n",
            "Epoch 5/100, Loss: 1.5613, Accuracy: 0.2100\n",
            "Epoch 6/100, Loss: 1.5333, Accuracy: 0.2100\n",
            "Epoch 7/100, Loss: 1.4985, Accuracy: 0.2900\n",
            "Epoch 8/100, Loss: 1.4567, Accuracy: 0.3800\n",
            "Epoch 9/100, Loss: 1.3995, Accuracy: 0.6800\n",
            "Epoch 10/100, Loss: 1.3347, Accuracy: 0.7200\n",
            "Epoch 11/100, Loss: 1.2493, Accuracy: 0.8000\n",
            "Epoch 12/100, Loss: 1.1652, Accuracy: 0.8100\n",
            "Epoch 13/100, Loss: 1.0842, Accuracy: 0.8200\n",
            "Epoch 14/100, Loss: 1.0041, Accuracy: 0.8400\n",
            "Epoch 15/100, Loss: 0.9292, Accuracy: 0.9300\n",
            "Epoch 16/100, Loss: 0.8537, Accuracy: 0.9800\n",
            "Epoch 17/100, Loss: 0.7829, Accuracy: 0.9800\n",
            "Epoch 18/100, Loss: 0.7117, Accuracy: 0.9800\n",
            "Epoch 19/100, Loss: 0.6629, Accuracy: 1.0000\n",
            "Epoch 20/100, Loss: 0.6063, Accuracy: 0.9900\n",
            "Epoch 21/100, Loss: 0.5477, Accuracy: 0.9900\n",
            "Epoch 22/100, Loss: 0.5082, Accuracy: 1.0000\n",
            "Epoch 23/100, Loss: 0.4766, Accuracy: 1.0000\n",
            "Epoch 24/100, Loss: 0.4498, Accuracy: 1.0000\n",
            "Epoch 25/100, Loss: 0.4093, Accuracy: 1.0000\n",
            "Epoch 26/100, Loss: 0.3720, Accuracy: 0.9900\n",
            "Epoch 27/100, Loss: 0.3462, Accuracy: 1.0000\n",
            "Epoch 28/100, Loss: 0.3354, Accuracy: 1.0000\n",
            "Epoch 29/100, Loss: 0.3185, Accuracy: 1.0000\n",
            "Epoch 30/100, Loss: 0.2871, Accuracy: 1.0000\n",
            "Epoch 31/100, Loss: 0.2609, Accuracy: 1.0000\n",
            "Epoch 32/100, Loss: 0.2488, Accuracy: 1.0000\n",
            "Epoch 33/100, Loss: 0.2321, Accuracy: 1.0000\n",
            "Epoch 34/100, Loss: 0.2106, Accuracy: 1.0000\n",
            "Epoch 35/100, Loss: 0.1973, Accuracy: 1.0000\n",
            "Epoch 36/100, Loss: 0.1855, Accuracy: 1.0000\n",
            "Epoch 37/100, Loss: 0.1740, Accuracy: 1.0000\n",
            "Epoch 38/100, Loss: 0.1603, Accuracy: 1.0000\n",
            "Epoch 39/100, Loss: 0.1482, Accuracy: 1.0000\n",
            "Epoch 40/100, Loss: 0.1408, Accuracy: 1.0000\n",
            "Epoch 41/100, Loss: 0.1300, Accuracy: 1.0000\n",
            "Epoch 42/100, Loss: 0.1183, Accuracy: 1.0000\n",
            "Epoch 43/100, Loss: 0.1114, Accuracy: 1.0000\n",
            "Epoch 44/100, Loss: 0.1088, Accuracy: 1.0000\n",
            "Epoch 45/100, Loss: 0.1043, Accuracy: 1.0000\n",
            "Epoch 46/100, Loss: 0.0968, Accuracy: 1.0000\n",
            "Epoch 47/100, Loss: 0.0875, Accuracy: 1.0000\n",
            "Epoch 48/100, Loss: 0.0795, Accuracy: 1.0000\n",
            "Epoch 49/100, Loss: 0.0741, Accuracy: 1.0000\n",
            "Epoch 50/100, Loss: 0.0725, Accuracy: 1.0000\n",
            "Epoch 51/100, Loss: 0.0713, Accuracy: 1.0000\n",
            "Epoch 52/100, Loss: 0.0652, Accuracy: 1.0000\n",
            "Epoch 53/100, Loss: 0.0585, Accuracy: 1.0000\n",
            "Epoch 54/100, Loss: 0.0561, Accuracy: 1.0000\n",
            "Epoch 55/100, Loss: 0.0527, Accuracy: 1.0000\n",
            "Epoch 56/100, Loss: 0.0521, Accuracy: 1.0000\n",
            "Epoch 57/100, Loss: 0.0511, Accuracy: 1.0000\n",
            "Epoch 58/100, Loss: 0.0478, Accuracy: 1.0000\n",
            "Epoch 59/100, Loss: 0.0460, Accuracy: 1.0000\n",
            "Epoch 60/100, Loss: 0.0456, Accuracy: 1.0000\n",
            "Epoch 61/100, Loss: 0.0414, Accuracy: 1.0000\n",
            "Epoch 62/100, Loss: 0.0404, Accuracy: 1.0000\n",
            "Epoch 63/100, Loss: 0.0397, Accuracy: 1.0000\n",
            "Epoch 64/100, Loss: 0.0378, Accuracy: 1.0000\n",
            "Epoch 65/100, Loss: 0.0353, Accuracy: 1.0000\n",
            "Epoch 66/100, Loss: 0.0325, Accuracy: 1.0000\n",
            "Epoch 67/100, Loss: 0.0301, Accuracy: 1.0000\n",
            "Epoch 68/100, Loss: 0.0277, Accuracy: 1.0000\n",
            "Epoch 69/100, Loss: 0.0260, Accuracy: 1.0000\n",
            "Epoch 70/100, Loss: 0.0242, Accuracy: 1.0000\n",
            "Epoch 71/100, Loss: 0.0218, Accuracy: 1.0000\n",
            "Epoch 72/100, Loss: 0.0204, Accuracy: 1.0000\n",
            "Epoch 73/100, Loss: 0.0194, Accuracy: 1.0000\n",
            "Epoch 74/100, Loss: 0.0183, Accuracy: 1.0000\n",
            "Epoch 75/100, Loss: 0.0169, Accuracy: 1.0000\n",
            "Epoch 76/100, Loss: 0.0161, Accuracy: 1.0000\n",
            "Epoch 77/100, Loss: 0.0158, Accuracy: 1.0000\n",
            "Epoch 78/100, Loss: 0.0150, Accuracy: 1.0000\n",
            "Epoch 79/100, Loss: 0.0147, Accuracy: 1.0000\n",
            "Epoch 80/100, Loss: 0.0149, Accuracy: 1.0000\n",
            "Epoch 81/100, Loss: 0.0144, Accuracy: 1.0000\n",
            "Epoch 82/100, Loss: 0.0136, Accuracy: 1.0000\n",
            "Epoch 83/100, Loss: 0.0140, Accuracy: 1.0000\n",
            "Epoch 84/100, Loss: 0.0142, Accuracy: 1.0000\n",
            "Epoch 85/100, Loss: 0.0133, Accuracy: 1.0000\n",
            "Epoch 86/100, Loss: 0.0122, Accuracy: 1.0000\n",
            "Epoch 87/100, Loss: 0.0113, Accuracy: 1.0000\n",
            "Epoch 88/100, Loss: 0.0111, Accuracy: 1.0000\n",
            "Epoch 89/100, Loss: 0.0107, Accuracy: 1.0000\n",
            "Epoch 90/100, Loss: 0.0098, Accuracy: 1.0000\n",
            "Epoch 91/100, Loss: 0.0097, Accuracy: 1.0000\n",
            "Epoch 92/100, Loss: 0.0097, Accuracy: 1.0000\n",
            "Epoch 93/100, Loss: 0.0091, Accuracy: 1.0000\n",
            "Epoch 94/100, Loss: 0.0085, Accuracy: 1.0000\n",
            "Epoch 95/100, Loss: 0.0084, Accuracy: 1.0000\n",
            "Epoch 96/100, Loss: 0.0083, Accuracy: 1.0000\n",
            "Epoch 97/100, Loss: 0.0079, Accuracy: 1.0000\n",
            "Epoch 98/100, Loss: 0.0078, Accuracy: 1.0000\n",
            "Epoch 99/100, Loss: 0.0079, Accuracy: 1.0000\n",
            "Epoch 100/100, Loss: 0.0075, Accuracy: 1.0000\n",
            "Epoch 1/100, Loss: 1.5739, Accuracy: 0.4600\n",
            "Epoch 2/100, Loss: 1.5234, Accuracy: 0.4900\n",
            "Epoch 3/100, Loss: 1.4611, Accuracy: 0.4400\n",
            "Epoch 4/100, Loss: 1.3986, Accuracy: 0.4800\n",
            "Epoch 5/100, Loss: 1.3282, Accuracy: 0.5400\n",
            "Epoch 6/100, Loss: 1.2471, Accuracy: 0.6500\n",
            "Epoch 7/100, Loss: 1.1585, Accuracy: 0.7400\n",
            "Epoch 8/100, Loss: 1.0743, Accuracy: 0.8600\n",
            "Epoch 9/100, Loss: 0.9828, Accuracy: 0.8800\n",
            "Epoch 10/100, Loss: 0.8769, Accuracy: 0.8900\n",
            "Epoch 11/100, Loss: 0.7857, Accuracy: 0.8900\n",
            "Epoch 12/100, Loss: 0.6989, Accuracy: 0.8900\n",
            "Epoch 13/100, Loss: 0.6144, Accuracy: 0.8900\n",
            "Epoch 14/100, Loss: 0.5403, Accuracy: 0.8800\n",
            "Epoch 15/100, Loss: 0.4894, Accuracy: 0.8900\n",
            "Epoch 16/100, Loss: 0.4397, Accuracy: 0.8900\n",
            "Epoch 17/100, Loss: 0.3908, Accuracy: 0.8800\n",
            "Epoch 18/100, Loss: 0.3535, Accuracy: 0.8800\n",
            "Epoch 19/100, Loss: 0.3263, Accuracy: 0.8800\n",
            "Epoch 20/100, Loss: 0.2994, Accuracy: 0.8800\n",
            "Epoch 21/100, Loss: 0.2753, Accuracy: 0.8800\n",
            "Epoch 22/100, Loss: 0.2618, Accuracy: 0.8800\n",
            "Epoch 23/100, Loss: 0.2413, Accuracy: 0.8800\n",
            "Epoch 24/100, Loss: 0.2277, Accuracy: 0.8800\n",
            "Epoch 25/100, Loss: 0.2193, Accuracy: 0.8800\n",
            "Epoch 26/100, Loss: 0.2103, Accuracy: 0.8800\n",
            "Epoch 27/100, Loss: 0.2065, Accuracy: 0.8800\n",
            "Epoch 28/100, Loss: 0.2014, Accuracy: 0.8800\n",
            "Epoch 29/100, Loss: 0.1955, Accuracy: 0.8800\n",
            "Epoch 30/100, Loss: 0.1875, Accuracy: 0.8800\n",
            "Epoch 31/100, Loss: 0.1811, Accuracy: 0.8800\n",
            "Epoch 32/100, Loss: 0.1769, Accuracy: 0.8800\n",
            "Epoch 33/100, Loss: 0.1735, Accuracy: 0.8800\n",
            "Epoch 34/100, Loss: 0.1705, Accuracy: 0.8800\n",
            "Epoch 35/100, Loss: 0.1675, Accuracy: 0.8800\n",
            "Epoch 36/100, Loss: 0.1646, Accuracy: 0.8800\n",
            "Epoch 37/100, Loss: 0.1609, Accuracy: 0.8800\n",
            "Epoch 38/100, Loss: 0.1587, Accuracy: 0.8800\n",
            "Epoch 39/100, Loss: 0.1568, Accuracy: 0.8800\n",
            "Epoch 40/100, Loss: 0.1556, Accuracy: 0.8900\n",
            "Epoch 41/100, Loss: 0.1537, Accuracy: 0.8900\n",
            "Epoch 42/100, Loss: 0.1515, Accuracy: 0.8900\n",
            "Epoch 43/100, Loss: 0.1496, Accuracy: 0.8900\n",
            "Epoch 44/100, Loss: 0.1481, Accuracy: 0.8900\n",
            "Epoch 45/100, Loss: 0.1465, Accuracy: 0.8900\n",
            "Epoch 46/100, Loss: 0.1459, Accuracy: 0.8900\n",
            "Epoch 47/100, Loss: 0.1455, Accuracy: 0.8900\n",
            "Epoch 48/100, Loss: 0.1452, Accuracy: 0.8900\n",
            "Epoch 49/100, Loss: 0.1434, Accuracy: 0.8900\n",
            "Epoch 50/100, Loss: 0.1417, Accuracy: 0.9300\n",
            "Epoch 51/100, Loss: 0.1401, Accuracy: 0.9300\n",
            "Epoch 52/100, Loss: 0.1386, Accuracy: 0.9300\n",
            "Epoch 53/100, Loss: 0.1373, Accuracy: 0.9300\n",
            "Epoch 54/100, Loss: 0.1357, Accuracy: 0.9300\n",
            "Epoch 55/100, Loss: 0.1351, Accuracy: 0.9500\n",
            "Epoch 56/100, Loss: 0.1339, Accuracy: 0.9500\n",
            "Epoch 57/100, Loss: 0.1330, Accuracy: 0.9600\n",
            "Epoch 58/100, Loss: 0.1317, Accuracy: 0.9600\n",
            "Epoch 59/100, Loss: 0.1302, Accuracy: 0.9700\n",
            "Epoch 60/100, Loss: 0.1288, Accuracy: 0.9700\n",
            "Epoch 61/100, Loss: 0.1276, Accuracy: 0.9700\n",
            "Epoch 62/100, Loss: 0.1268, Accuracy: 0.9900\n",
            "Epoch 63/100, Loss: 0.1258, Accuracy: 0.9900\n",
            "Epoch 64/100, Loss: 0.1248, Accuracy: 1.0000\n",
            "Epoch 65/100, Loss: 0.1236, Accuracy: 0.9900\n",
            "Epoch 66/100, Loss: 0.1231, Accuracy: 0.9900\n",
            "Epoch 67/100, Loss: 0.1227, Accuracy: 1.0000\n",
            "Epoch 68/100, Loss: 0.1216, Accuracy: 1.0000\n",
            "Epoch 69/100, Loss: 0.1208, Accuracy: 1.0000\n",
            "Epoch 70/100, Loss: 0.1198, Accuracy: 1.0000\n",
            "Epoch 71/100, Loss: 0.1189, Accuracy: 1.0000\n",
            "Epoch 72/100, Loss: 0.1188, Accuracy: 1.0000\n",
            "Epoch 73/100, Loss: 0.1184, Accuracy: 1.0000\n",
            "Epoch 74/100, Loss: 0.1172, Accuracy: 1.0000\n",
            "Epoch 75/100, Loss: 0.1153, Accuracy: 1.0000\n",
            "Epoch 76/100, Loss: 0.1140, Accuracy: 1.0000\n",
            "Epoch 77/100, Loss: 0.1133, Accuracy: 1.0000\n",
            "Epoch 78/100, Loss: 0.1122, Accuracy: 1.0000\n",
            "Epoch 79/100, Loss: 0.1118, Accuracy: 1.0000\n",
            "Epoch 80/100, Loss: 0.1118, Accuracy: 1.0000\n",
            "Epoch 81/100, Loss: 0.1115, Accuracy: 1.0000\n",
            "Epoch 82/100, Loss: 0.1098, Accuracy: 1.0000\n",
            "Epoch 83/100, Loss: 0.1090, Accuracy: 1.0000\n",
            "Epoch 84/100, Loss: 0.1082, Accuracy: 1.0000\n",
            "Epoch 85/100, Loss: 0.1075, Accuracy: 1.0000\n",
            "Epoch 86/100, Loss: 0.1072, Accuracy: 1.0000\n",
            "Epoch 87/100, Loss: 0.1061, Accuracy: 1.0000\n",
            "Epoch 88/100, Loss: 0.1056, Accuracy: 1.0000\n",
            "Epoch 89/100, Loss: 0.1040, Accuracy: 1.0000\n",
            "Epoch 90/100, Loss: 0.1033, Accuracy: 1.0000\n",
            "Epoch 91/100, Loss: 0.1022, Accuracy: 1.0000\n",
            "Epoch 92/100, Loss: 0.1011, Accuracy: 1.0000\n",
            "Epoch 93/100, Loss: 0.0998, Accuracy: 1.0000\n",
            "Epoch 94/100, Loss: 0.0987, Accuracy: 1.0000\n",
            "Epoch 95/100, Loss: 0.0985, Accuracy: 1.0000\n",
            "Epoch 96/100, Loss: 0.0971, Accuracy: 1.0000\n",
            "Epoch 97/100, Loss: 0.0960, Accuracy: 1.0000\n",
            "Epoch 98/100, Loss: 0.0953, Accuracy: 1.0000\n",
            "Epoch 99/100, Loss: 0.0952, Accuracy: 1.0000\n",
            "Epoch 100/100, Loss: 0.0954, Accuracy: 1.0000\n"
          ]
        }
      ],
      "source": [
        "scores_glove_dnn = evaluate_dnn(embeddings_glove, labels, embeddings_glove.shape[1], epochs=100, cv=2)"
      ]
    },
    {
      "cell_type": "code",
      "execution_count": 54,
      "metadata": {
        "id": "GDTwo-E-5hkM",
        "colab": {
          "base_uri": "https://localhost:8080/"
        },
        "outputId": "4bfba5a4-a027-472b-8714-20ee9cf89555"
      },
      "outputs": [
        {
          "output_type": "stream",
          "name": "stdout",
          "text": [
            "BERT + Logistic Regression: 1.0\n",
            "BERT + Random Forest: 1.0\n",
            "BERT + SVM: 0.999\n",
            "BERT + DNN: 0.795959595959596\n",
            "Word2Vec + Logistic Regression: 0.9869898989898989\n",
            "Word2Vec + Random Forest: 0.9890000000000001\n",
            "Word2Vec + SVM: 0.999\n",
            "Word2Vec + DNN: 0.36172344689378755\n",
            "GloVe + Logistic Regression: 0.998\n",
            "GloVe + Random Forest: 0.9960000000000001\n",
            "GloVe + SVM: 1.0\n",
            "GloVe + DNN: 0.8486973947895792\n"
          ]
        }
      ],
      "source": [
        "# Print results\n",
        "print(\"BERT + Logistic Regression:\", scores_bert_log_reg.mean())\n",
        "print(\"BERT + Random Forest:\", scores_bert_rf.mean())\n",
        "print(\"BERT + SVM:\", scores_bert_svm.mean())\n",
        "print(\"BERT + DNN:\", scores_bert_dnn)\n",
        "print(\"Word2Vec + Logistic Regression:\", scores_w2v_log_reg.mean())\n",
        "print(\"Word2Vec + Random Forest:\", scores_w2v_rf.mean())\n",
        "print(\"Word2Vec + SVM:\", scores_w2v_svm.mean())\n",
        "print(\"Word2Vec + DNN:\", scores_w2v_dnn)\n",
        "print(\"GloVe + Logistic Regression:\", scores_glove_log_reg.mean())\n",
        "print(\"GloVe + Random Forest:\", scores_glove_rf.mean())\n",
        "print(\"GloVe + SVM:\", scores_glove_svm.mean())\n",
        "print(\"GloVe + DNN:\", scores_glove_dnn)"
      ]
    }
  ],
  "metadata": {
    "colab": {
      "provenance": [],
      "authorship_tag": "ABX9TyMLWg8X1fRBh6PBLrBEOIPH",
      "include_colab_link": true
    },
    "kernelspec": {
      "display_name": "Python 3",
      "name": "python3"
    },
    "language_info": {
      "name": "python"
    },
    "widgets": {
      "application/vnd.jupyter.widget-state+json": {
        "65a761d781714f1392b3fad054af7e6b": {
          "model_module": "@jupyter-widgets/controls",
          "model_name": "HBoxModel",
          "model_module_version": "1.5.0",
          "state": {
            "_dom_classes": [],
            "_model_module": "@jupyter-widgets/controls",
            "_model_module_version": "1.5.0",
            "_model_name": "HBoxModel",
            "_view_count": null,
            "_view_module": "@jupyter-widgets/controls",
            "_view_module_version": "1.5.0",
            "_view_name": "HBoxView",
            "box_style": "",
            "children": [
              "IPY_MODEL_6b718c205df14c2c939c36aca21ba1a1",
              "IPY_MODEL_eafe7dc9058342399e607fdea3bfe5e4",
              "IPY_MODEL_bf527b2d9e634468a3111089e43e8a3d"
            ],
            "layout": "IPY_MODEL_90df4015f85b488e9f732ebb2bde8cad"
          }
        },
        "6b718c205df14c2c939c36aca21ba1a1": {
          "model_module": "@jupyter-widgets/controls",
          "model_name": "HTMLModel",
          "model_module_version": "1.5.0",
          "state": {
            "_dom_classes": [],
            "_model_module": "@jupyter-widgets/controls",
            "_model_module_version": "1.5.0",
            "_model_name": "HTMLModel",
            "_view_count": null,
            "_view_module": "@jupyter-widgets/controls",
            "_view_module_version": "1.5.0",
            "_view_name": "HTMLView",
            "description": "",
            "description_tooltip": null,
            "layout": "IPY_MODEL_0acf0889f92945b0a97e5c16f5ef5fa2",
            "placeholder": "​",
            "style": "IPY_MODEL_1669fa4311a8473eb616b4a4401b51f5",
            "value": "model.safetensors: 100%"
          }
        },
        "eafe7dc9058342399e607fdea3bfe5e4": {
          "model_module": "@jupyter-widgets/controls",
          "model_name": "FloatProgressModel",
          "model_module_version": "1.5.0",
          "state": {
            "_dom_classes": [],
            "_model_module": "@jupyter-widgets/controls",
            "_model_module_version": "1.5.0",
            "_model_name": "FloatProgressModel",
            "_view_count": null,
            "_view_module": "@jupyter-widgets/controls",
            "_view_module_version": "1.5.0",
            "_view_name": "ProgressView",
            "bar_style": "success",
            "description": "",
            "description_tooltip": null,
            "layout": "IPY_MODEL_00f5d8d577404a30be6a574c7b126bbf",
            "max": 440449768,
            "min": 0,
            "orientation": "horizontal",
            "style": "IPY_MODEL_55de83c8c05e403cabc12cb230bf9291",
            "value": 440449768
          }
        },
        "bf527b2d9e634468a3111089e43e8a3d": {
          "model_module": "@jupyter-widgets/controls",
          "model_name": "HTMLModel",
          "model_module_version": "1.5.0",
          "state": {
            "_dom_classes": [],
            "_model_module": "@jupyter-widgets/controls",
            "_model_module_version": "1.5.0",
            "_model_name": "HTMLModel",
            "_view_count": null,
            "_view_module": "@jupyter-widgets/controls",
            "_view_module_version": "1.5.0",
            "_view_name": "HTMLView",
            "description": "",
            "description_tooltip": null,
            "layout": "IPY_MODEL_d6d4d6dce169446883fb5c39201c9658",
            "placeholder": "​",
            "style": "IPY_MODEL_d5f5b6cc1b0844549ae3c9cd25ca9e07",
            "value": " 440M/440M [00:09&lt;00:00, 56.2MB/s]"
          }
        },
        "90df4015f85b488e9f732ebb2bde8cad": {
          "model_module": "@jupyter-widgets/base",
          "model_name": "LayoutModel",
          "model_module_version": "1.2.0",
          "state": {
            "_model_module": "@jupyter-widgets/base",
            "_model_module_version": "1.2.0",
            "_model_name": "LayoutModel",
            "_view_count": null,
            "_view_module": "@jupyter-widgets/base",
            "_view_module_version": "1.2.0",
            "_view_name": "LayoutView",
            "align_content": null,
            "align_items": null,
            "align_self": null,
            "border": null,
            "bottom": null,
            "display": null,
            "flex": null,
            "flex_flow": null,
            "grid_area": null,
            "grid_auto_columns": null,
            "grid_auto_flow": null,
            "grid_auto_rows": null,
            "grid_column": null,
            "grid_gap": null,
            "grid_row": null,
            "grid_template_areas": null,
            "grid_template_columns": null,
            "grid_template_rows": null,
            "height": null,
            "justify_content": null,
            "justify_items": null,
            "left": null,
            "margin": null,
            "max_height": null,
            "max_width": null,
            "min_height": null,
            "min_width": null,
            "object_fit": null,
            "object_position": null,
            "order": null,
            "overflow": null,
            "overflow_x": null,
            "overflow_y": null,
            "padding": null,
            "right": null,
            "top": null,
            "visibility": null,
            "width": null
          }
        },
        "0acf0889f92945b0a97e5c16f5ef5fa2": {
          "model_module": "@jupyter-widgets/base",
          "model_name": "LayoutModel",
          "model_module_version": "1.2.0",
          "state": {
            "_model_module": "@jupyter-widgets/base",
            "_model_module_version": "1.2.0",
            "_model_name": "LayoutModel",
            "_view_count": null,
            "_view_module": "@jupyter-widgets/base",
            "_view_module_version": "1.2.0",
            "_view_name": "LayoutView",
            "align_content": null,
            "align_items": null,
            "align_self": null,
            "border": null,
            "bottom": null,
            "display": null,
            "flex": null,
            "flex_flow": null,
            "grid_area": null,
            "grid_auto_columns": null,
            "grid_auto_flow": null,
            "grid_auto_rows": null,
            "grid_column": null,
            "grid_gap": null,
            "grid_row": null,
            "grid_template_areas": null,
            "grid_template_columns": null,
            "grid_template_rows": null,
            "height": null,
            "justify_content": null,
            "justify_items": null,
            "left": null,
            "margin": null,
            "max_height": null,
            "max_width": null,
            "min_height": null,
            "min_width": null,
            "object_fit": null,
            "object_position": null,
            "order": null,
            "overflow": null,
            "overflow_x": null,
            "overflow_y": null,
            "padding": null,
            "right": null,
            "top": null,
            "visibility": null,
            "width": null
          }
        },
        "1669fa4311a8473eb616b4a4401b51f5": {
          "model_module": "@jupyter-widgets/controls",
          "model_name": "DescriptionStyleModel",
          "model_module_version": "1.5.0",
          "state": {
            "_model_module": "@jupyter-widgets/controls",
            "_model_module_version": "1.5.0",
            "_model_name": "DescriptionStyleModel",
            "_view_count": null,
            "_view_module": "@jupyter-widgets/base",
            "_view_module_version": "1.2.0",
            "_view_name": "StyleView",
            "description_width": ""
          }
        },
        "00f5d8d577404a30be6a574c7b126bbf": {
          "model_module": "@jupyter-widgets/base",
          "model_name": "LayoutModel",
          "model_module_version": "1.2.0",
          "state": {
            "_model_module": "@jupyter-widgets/base",
            "_model_module_version": "1.2.0",
            "_model_name": "LayoutModel",
            "_view_count": null,
            "_view_module": "@jupyter-widgets/base",
            "_view_module_version": "1.2.0",
            "_view_name": "LayoutView",
            "align_content": null,
            "align_items": null,
            "align_self": null,
            "border": null,
            "bottom": null,
            "display": null,
            "flex": null,
            "flex_flow": null,
            "grid_area": null,
            "grid_auto_columns": null,
            "grid_auto_flow": null,
            "grid_auto_rows": null,
            "grid_column": null,
            "grid_gap": null,
            "grid_row": null,
            "grid_template_areas": null,
            "grid_template_columns": null,
            "grid_template_rows": null,
            "height": null,
            "justify_content": null,
            "justify_items": null,
            "left": null,
            "margin": null,
            "max_height": null,
            "max_width": null,
            "min_height": null,
            "min_width": null,
            "object_fit": null,
            "object_position": null,
            "order": null,
            "overflow": null,
            "overflow_x": null,
            "overflow_y": null,
            "padding": null,
            "right": null,
            "top": null,
            "visibility": null,
            "width": null
          }
        },
        "55de83c8c05e403cabc12cb230bf9291": {
          "model_module": "@jupyter-widgets/controls",
          "model_name": "ProgressStyleModel",
          "model_module_version": "1.5.0",
          "state": {
            "_model_module": "@jupyter-widgets/controls",
            "_model_module_version": "1.5.0",
            "_model_name": "ProgressStyleModel",
            "_view_count": null,
            "_view_module": "@jupyter-widgets/base",
            "_view_module_version": "1.2.0",
            "_view_name": "StyleView",
            "bar_color": null,
            "description_width": ""
          }
        },
        "d6d4d6dce169446883fb5c39201c9658": {
          "model_module": "@jupyter-widgets/base",
          "model_name": "LayoutModel",
          "model_module_version": "1.2.0",
          "state": {
            "_model_module": "@jupyter-widgets/base",
            "_model_module_version": "1.2.0",
            "_model_name": "LayoutModel",
            "_view_count": null,
            "_view_module": "@jupyter-widgets/base",
            "_view_module_version": "1.2.0",
            "_view_name": "LayoutView",
            "align_content": null,
            "align_items": null,
            "align_self": null,
            "border": null,
            "bottom": null,
            "display": null,
            "flex": null,
            "flex_flow": null,
            "grid_area": null,
            "grid_auto_columns": null,
            "grid_auto_flow": null,
            "grid_auto_rows": null,
            "grid_column": null,
            "grid_gap": null,
            "grid_row": null,
            "grid_template_areas": null,
            "grid_template_columns": null,
            "grid_template_rows": null,
            "height": null,
            "justify_content": null,
            "justify_items": null,
            "left": null,
            "margin": null,
            "max_height": null,
            "max_width": null,
            "min_height": null,
            "min_width": null,
            "object_fit": null,
            "object_position": null,
            "order": null,
            "overflow": null,
            "overflow_x": null,
            "overflow_y": null,
            "padding": null,
            "right": null,
            "top": null,
            "visibility": null,
            "width": null
          }
        },
        "d5f5b6cc1b0844549ae3c9cd25ca9e07": {
          "model_module": "@jupyter-widgets/controls",
          "model_name": "DescriptionStyleModel",
          "model_module_version": "1.5.0",
          "state": {
            "_model_module": "@jupyter-widgets/controls",
            "_model_module_version": "1.5.0",
            "_model_name": "DescriptionStyleModel",
            "_view_count": null,
            "_view_module": "@jupyter-widgets/base",
            "_view_module_version": "1.2.0",
            "_view_name": "StyleView",
            "description_width": ""
          }
        }
      }
    }
  },
  "nbformat": 4,
  "nbformat_minor": 0
}